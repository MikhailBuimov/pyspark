{
  "nbformat": 4,
  "nbformat_minor": 0,
  "metadata": {
    "colab": {
      "provenance": [],
      "mount_file_id": "1rdCU1eDVyOhhfLgOIZVdjxXctQo7GCSM",
      "authorship_tag": "ABX9TyMZcXNlUNPTwc7EBZjPx9z4",
      "include_colab_link": true
    },
    "kernelspec": {
      "name": "python3",
      "display_name": "Python 3"
    },
    "language_info": {
      "name": "python"
    }
  },
  "cells": [
    {
      "cell_type": "markdown",
      "metadata": {
        "id": "view-in-github",
        "colab_type": "text"
      },
      "source": [
        "<a href=\"https://colab.research.google.com/github/MikhailBuimov/pyspark/blob/main/laser_cutting_pyspark.ipynb\" target=\"_parent\"><img src=\"https://colab.research.google.com/assets/colab-badge.svg\" alt=\"Open In Colab\"/></a>"
      ]
    },
    {
      "cell_type": "code",
      "source": [
        "import pyspark\n",
        "import pandas as pd\n",
        "import pyspark.pandas as ps\n",
        "from pyspark.sql.functions import udf\n",
        "from pyspark.sql.types import ArrayType, StructType, StringType, IntegerType"
      ],
      "metadata": {
        "id": "1w482LhjWvZS"
      },
      "execution_count": 5,
      "outputs": []
    },
    {
      "cell_type": "code",
      "source": [
        "from pyspark.sql import SparkSession\n",
        "\n",
        "# Инициализация SparkSession\n",
        "spark = (\n",
        "    SparkSession.builder\n",
        "    .appName(\"MyApp\")\n",
        "    .master(\"local\")  # Запуск Spark на локальной машине\n",
        "    .getOrCreate()\n",
        ")\n",
        "\n",
        "df = pd.read_csv('/content/drive/MyDrive/datasets/laser_cutting.csv')\n",
        "psdf = ps.read_csv('/content/drive/MyDrive/datasets/laser_cutting.csv')\n",
        "\n",
        "sqldf = spark.createDataFrame(df)"
      ],
      "metadata": {
        "colab": {
          "base_uri": "https://localhost:8080/"
        },
        "id": "gmc_Eor_W4vX",
        "outputId": "a92c6bc2-50f6-492c-845b-61d7fa5e9a73"
      },
      "execution_count": 3,
      "outputs": [
        {
          "output_type": "stream",
          "name": "stderr",
          "text": [
            "/usr/local/lib/python3.10/dist-packages/pyspark/pandas/utils.py:1016: PandasAPIOnSparkAdviceWarning: If `index_col` is not specified for `read_csv`, the default index is attached which can cause additional overhead.\n",
            "  warnings.warn(message, PandasAPIOnSparkAdviceWarning)\n"
          ]
        }
      ]
    },
    {
      "cell_type": "code",
      "source": [
        "print(type(sqldf))"
      ],
      "metadata": {
        "colab": {
          "base_uri": "https://localhost:8080/"
        },
        "id": "76I26TDvrMa5",
        "outputId": "4dfa4d80-cd8a-4d95-b114-a1737eeaf390"
      },
      "execution_count": 4,
      "outputs": [
        {
          "output_type": "stream",
          "name": "stdout",
          "text": [
            "<class 'pyspark.sql.dataframe.DataFrame'>\n"
          ]
        }
      ]
    },
    {
      "cell_type": "code",
      "source": [
        "print(type(psdf))"
      ],
      "metadata": {
        "colab": {
          "base_uri": "https://localhost:8080/"
        },
        "id": "41DLRujNs6bd",
        "outputId": "8462968f-eeec-4403-aef4-269d6f386276"
      },
      "execution_count": 6,
      "outputs": [
        {
          "output_type": "stream",
          "name": "stdout",
          "text": [
            "<class 'pyspark.pandas.frame.DataFrame'>\n"
          ]
        }
      ]
    },
    {
      "cell_type": "markdown",
      "source": [
        "Я так и не понял, есть ли разница в pyspark.sql и pyspark.pandas. В доке написано, что это просто удобный интерфейс, чтобы делать все также как в пандасе(sql). Но по факту нет - получаются разные объекты. А когда я пытался дальше сделать udf с pyspark.pandas - оно не работало (withColumn не делался, потому что объект типа не pyspark. Хотя выше же тип pyspark.pandas!). Я так и не понимаю что тут происходит под капотом с этим pyspark"
      ],
      "metadata": {
        "id": "_Di0PtHLtLps"
      }
    },
    {
      "cell_type": "markdown",
      "source": [
        "Тот что sql имеет свои методы (кривые какие то, неудобные. Вот переименовать столбцы разом хз как - очень неудобно) и выводит так"
      ],
      "metadata": {
        "id": "V3NTWRstv3IC"
      }
    },
    {
      "cell_type": "code",
      "source": [
        "sqldf = sqldf.withColumnRenamed('Наименование', 'Part_name').withColumnRenamed('Наименование', 'Part_name')\n",
        "\n",
        "sqldf.show()"
      ],
      "metadata": {
        "colab": {
          "base_uri": "https://localhost:8080/"
        },
        "id": "J4lc2fKOQxbD",
        "outputId": "2e882876-3a94-4302-ba2e-fcc377f08e2e"
      },
      "execution_count": 7,
      "outputs": [
        {
          "output_type": "stream",
          "name": "stdout",
          "text": [
            "+--------------------+--------------------+--------+----------+----------+------+-----+----------+------------+\n",
            "|           Part_name|            Материал|Операция|      hash|     Время|Ширина|Длина|Длина реза|Кол-во резов|\n",
            "+--------------------+--------------------+--------+----------+----------+------+-----+----------+------------+\n",
            "|             Круг 40| Лист х/к т. 3,0 мм.|      ЛР|42af1b9fc3|00:00:03.5|  40.0| 40.0|       126|           1|\n",
            "|             Круг 40| Лист х/к т. 3,0 мм.|      ЛР|42af1b9fc3|00:00:03.5|  40.0| 40.0|       126|           1|\n",
            "|             Круг 40| Лист х/к т. 3,0 мм.|      ЛР|42af1b9fc3|00:00:03.5|  40.0| 40.0|       126|           1|\n",
            "|             Круг 40| Лист х/к т. 3,0 мм.|      ЛР|42af1b9fc3|00:00:03.5|  40.0| 40.0|       126|           1|\n",
            "|             Круг 40| Лист х/к т. 3,0 мм.|      ЛР|42af1b9fc3|00:00:03.5|  40.0| 40.0|       126|           1|\n",
            "|             Круг 40| Лист х/к т. 3,0 мм.|      ЛР|42af1b9fc3|00:00:03.5|  40.0| 40.0|       126|           1|\n",
            "|             Круг 40| Лист х/к т. 3,0 мм.|      ЛР|42af1b9fc3|00:00:03.6|  40.0| 40.0|       126|           1|\n",
            "|             Круг 40| Лист х/к т. 3,0 мм.|      ЛР|42af1b9fc3|00:00:03.5|  40.0| 40.0|       126|           1|\n",
            "|             Круг 40| Лист х/к т. 3,0 мм.|      ЛР|42af1b9fc3|00:00:03.5|  40.0| 40.0|       126|           1|\n",
            "|             Круг 40| Лист х/к т. 3,0 мм.|      ЛР|42af1b9fc3|00:00:03.4|  40.0| 40.0|       126|           1|\n",
            "|             Круг 40| Лист х/к т. 3,0 мм.|      ЛР|42af1b9fc3|00:00:03.4|  40.0| 40.0|       126|           1|\n",
            "|             Круг 40| Лист х/к т. 3,0 мм.|      ЛР|42af1b9fc3|00:00:03.6|  40.0| 40.0|       126|           1|\n",
            "|             Круг 40| Лист х/к т. 3,0 мм.|      ЛР|42af1b9fc3|00:00:03.4|  40.0| 40.0|       126|           1|\n",
            "|             Круг 40| Лист х/к т. 3,0 мм.|      ЛР|42af1b9fc3|00:00:03.6|  40.0| 40.0|       126|           1|\n",
            "|   След 1,3 ст3.Л3,0| Лист х/к т. 3,0 мм.|      ЛР|42d871d3ed|00:00:07.5|  62.0|111.0|       304|           1|\n",
            "|   След 1,3 ст3.Л3,0| Лист х/к т. 3,0 мм.|      ЛР|42d871d3ed|00:00:07.5|  62.0|111.0|       304|           1|\n",
            "|   След 1,3 ст3.Л3,0| Лист х/к т. 3,0 мм.|      ЛР|42d871d3ed|00:00:07.5|  62.0|111.0|       304|           1|\n",
            "|100-15.214.03 Пер...|Труба проф. 40*40...|      ТР|1588a8230e|00:00:46.7| 356.0|155.0|       581|          12|\n",
            "|   След 1,3 ст3.Л3,0| Лист х/к т. 3,0 мм.|      ЛР|42d871d3ed|00:00:08.2|  62.0|111.0|       304|           1|\n",
            "|   След 1,3 ст3.Л3,0| Лист х/к т. 3,0 мм.|      ЛР|42d871d3ed|00:00:07.5|  62.0|111.0|       304|           1|\n",
            "+--------------------+--------------------+--------+----------+----------+------+-----+----------+------------+\n",
            "only showing top 20 rows\n",
            "\n"
          ]
        }
      ]
    },
    {
      "cell_type": "markdown",
      "source": [
        "А методы пандаса стандартные не имеет"
      ],
      "metadata": {
        "id": "btOP8kS0wC5H"
      }
    },
    {
      "cell_type": "code",
      "source": [
        "sqldf.info()"
      ],
      "metadata": {
        "colab": {
          "base_uri": "https://localhost:8080/",
          "height": 263
        },
        "id": "twtWv-JkUiiq",
        "outputId": "477febb5-532b-410e-d8e7-bc1cdec53e6a"
      },
      "execution_count": 8,
      "outputs": [
        {
          "output_type": "error",
          "ename": "AttributeError",
          "evalue": "'DataFrame' object has no attribute 'info'",
          "traceback": [
            "\u001b[0;31m---------------------------------------------------------------------------\u001b[0m",
            "\u001b[0;31mAttributeError\u001b[0m                            Traceback (most recent call last)",
            "\u001b[0;32m<ipython-input-8-8d9653a1ec92>\u001b[0m in \u001b[0;36m<cell line: 1>\u001b[0;34m()\u001b[0m\n\u001b[0;32m----> 1\u001b[0;31m \u001b[0msqldf\u001b[0m\u001b[0;34m.\u001b[0m\u001b[0minfo\u001b[0m\u001b[0;34m(\u001b[0m\u001b[0;34m)\u001b[0m\u001b[0;34m\u001b[0m\u001b[0;34m\u001b[0m\u001b[0m\n\u001b[0m",
            "\u001b[0;32m/usr/local/lib/python3.10/dist-packages/pyspark/sql/dataframe.py\u001b[0m in \u001b[0;36m__getattr__\u001b[0;34m(self, name)\u001b[0m\n\u001b[1;32m   3127\u001b[0m         \"\"\"\n\u001b[1;32m   3128\u001b[0m         \u001b[0;32mif\u001b[0m \u001b[0mname\u001b[0m \u001b[0;32mnot\u001b[0m \u001b[0;32min\u001b[0m \u001b[0mself\u001b[0m\u001b[0;34m.\u001b[0m\u001b[0mcolumns\u001b[0m\u001b[0;34m:\u001b[0m\u001b[0;34m\u001b[0m\u001b[0;34m\u001b[0m\u001b[0m\n\u001b[0;32m-> 3129\u001b[0;31m             raise AttributeError(\n\u001b[0m\u001b[1;32m   3130\u001b[0m                 \u001b[0;34m\"'%s' object has no attribute '%s'\"\u001b[0m \u001b[0;34m%\u001b[0m \u001b[0;34m(\u001b[0m\u001b[0mself\u001b[0m\u001b[0;34m.\u001b[0m\u001b[0m__class__\u001b[0m\u001b[0;34m.\u001b[0m\u001b[0m__name__\u001b[0m\u001b[0;34m,\u001b[0m \u001b[0mname\u001b[0m\u001b[0;34m)\u001b[0m\u001b[0;34m\u001b[0m\u001b[0;34m\u001b[0m\u001b[0m\n\u001b[1;32m   3131\u001b[0m             )\n",
            "\u001b[0;31mAttributeError\u001b[0m: 'DataFrame' object has no attribute 'info'"
          ]
        }
      ]
    },
    {
      "cell_type": "markdown",
      "source": [
        "Буду делать через pyspark.pandas\n",
        "\n",
        "Но причем тут тогда этот SparkSession?\n",
        "\n",
        "Я не понимаю че происходит(\n",
        "\n",
        "\n",
        "\n",
        "---\n",
        "\n"
      ],
      "metadata": {
        "id": "ku_YrIl4wfk1"
      }
    },
    {
      "cell_type": "code",
      "source": [
        "cutting = psdf"
      ],
      "metadata": {
        "id": "2RoBV7XY07ak"
      },
      "execution_count": 9,
      "outputs": []
    },
    {
      "cell_type": "code",
      "source": [
        "cutting.rename(columns={'Наименование': 'Part_name',\n",
        "                        'Материал': 'Material',\n",
        "                        'Время': 'Time',\n",
        "                        'Ширина': 'Width',\n",
        "                        'Длина': 'Length',\n",
        "                        'Длина реза': 'Cut_length',\n",
        "                        'Кол-во резов': 'Cut_quantity',\n",
        "                        'Операция': 'Operation'}, inplace=True)"
      ],
      "metadata": {
        "id": "yByyJeEBwnAf"
      },
      "execution_count": 10,
      "outputs": []
    },
    {
      "cell_type": "code",
      "source": [
        "cutting.drop_duplicates(subset='hash', inplace=True)\n",
        "len(cutting)"
      ],
      "metadata": {
        "colab": {
          "base_uri": "https://localhost:8080/"
        },
        "id": "ejjt_2eORyd4",
        "outputId": "08691da6-505a-4152-e1fd-14fa5dae6593"
      },
      "execution_count": 11,
      "outputs": [
        {
          "output_type": "execute_result",
          "data": {
            "text/plain": [
              "17830"
            ]
          },
          "metadata": {},
          "execution_count": 11
        }
      ]
    },
    {
      "cell_type": "code",
      "source": [
        "import re\n",
        "\n",
        "def get_keywords(name):\n",
        "    # Определяем список предлогов и несущественных слов, которые нужно исключить\n",
        "    stop_words = {'и', 'в', 'на', 'с', 'под', 'за',\n",
        "                  'для', 'по', 'от', 'до', 'над',\n",
        "                  'через', 'у', 'о', 'об', 'при',\n",
        "                  'из', 'а', 'но', 'или', 'xx', 'хх',\n",
        "                 'мм', 'ст', 'шт', 'тр', 'дл',\n",
        "                 \"шир\", \"выс\", \"пр\"}\n",
        "\n",
        "    name = re.sub(r'[\\W_]', ' ', name)\n",
        "\n",
        "    # Удаляем нетекстовые символы и числа\n",
        "    name = re.sub(r'[^А-Яа-яЁё\\s]', '', name)\n",
        "\n",
        "    # Разбиваем строку на слова и удаляем лишние пробелы\n",
        "    words = name.strip().split()\n",
        "\n",
        "    # Фильтруем слова, исключая предлоги и слова, которые короче 2 символов\n",
        "    keywords = [word.lower() for word in words if word.lower() not in stop_words and len(word) > 1]\n",
        "\n",
        "    return keywords"
      ],
      "metadata": {
        "id": "_lvqrZ5Pzeqc"
      },
      "execution_count": 12,
      "outputs": []
    },
    {
      "cell_type": "code",
      "source": [
        "cutting['keywords'] = cutting['Part_name'].apply(get_keywords)"
      ],
      "metadata": {
        "id": "98F88jNhvV0z"
      },
      "execution_count": 13,
      "outputs": []
    },
    {
      "cell_type": "code",
      "source": [
        "print(type(cutting))"
      ],
      "metadata": {
        "colab": {
          "base_uri": "https://localhost:8080/"
        },
        "id": "RiDHdqpS2L1o",
        "outputId": "9ab2ac04-c908-474d-f0dc-186d51ee1ce7"
      },
      "execution_count": 14,
      "outputs": [
        {
          "output_type": "stream",
          "name": "stdout",
          "text": [
            "<class 'pyspark.pandas.frame.DataFrame'>\n"
          ]
        }
      ]
    },
    {
      "cell_type": "markdown",
      "source": [
        "Ну вот получается pyspark объект. Но я просто копирую тот же код, что и в обычном питоновском EDA. Это точно то что надо??? Просто скопировать тот же код, зачем?\n",
        "\n",
        "Ерунда какая-то..."
      ],
      "metadata": {
        "id": "7up5roIf2khK"
      }
    }
  ]
}